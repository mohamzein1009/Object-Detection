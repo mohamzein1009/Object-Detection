{
 "cells": [
  {
   "cell_type": "code",
   "execution_count": 1,
   "id": "ecfee4ed",
   "metadata": {
    "ExecuteTime": {
     "end_time": "2024-05-28T09:28:46.162337Z",
     "start_time": "2024-05-28T09:28:45.777962Z"
    }
   },
   "outputs": [],
   "source": [
    "import cv2\n",
    "from matplotlib import pyplot as plt"
   ]
  },
  {
   "cell_type": "code",
   "execution_count": 7,
   "id": "34a741ed",
   "metadata": {
    "ExecuteTime": {
     "end_time": "2024-05-28T09:35:00.430614Z",
     "start_time": "2024-05-28T09:35:00.415662Z"
    }
   },
   "outputs": [],
   "source": [
    "#loading image and coverting to rgb and grayscale\n",
    "\n",
    "img = cv2.imread('image.jpg')\n",
    "img_gray = cv2.cvtColor(img, cv2.COLOR_BGR2GRAY)\n",
    "img_rgb = cv2.cvtColor(img, cv2.COLOR_BGR2RGB)"
   ]
  },
  {
   "cell_type": "code",
   "execution_count": 10,
   "id": "e321bc2d",
   "metadata": {
    "ExecuteTime": {
     "end_time": "2024-05-28T09:35:41.415587Z",
     "start_time": "2024-05-28T09:35:40.016657Z"
    }
   },
   "outputs": [
    {
     "data": {
      "text/plain": [
       "-1"
      ]
     },
     "execution_count": 10,
     "metadata": {},
     "output_type": "execute_result"
    }
   ],
   "source": [
    "cv2.imshow('', img_rgb)\n",
    "cv2.waitKey()"
   ]
  },
  {
   "cell_type": "code",
   "execution_count": 22,
   "id": "b0a2ad82",
   "metadata": {
    "ExecuteTime": {
     "end_time": "2024-05-28T09:44:49.484045Z",
     "start_time": "2024-05-28T09:44:49.455499Z"
    }
   },
   "outputs": [],
   "source": [
    "data = cv2.CascadeClassifier('stop_data.xml') #loading the Haar Cascade classifier\n",
    "stops = data.detectMultiScale(img_gray, minSize = (20, 20)) #minSize stops small object from being recognised as stop signs"
   ]
  },
  {
   "cell_type": "code",
   "execution_count": 23,
   "id": "8acc3c2f",
   "metadata": {
    "ExecuteTime": {
     "end_time": "2024-05-28T09:44:51.264497Z",
     "start_time": "2024-05-28T09:44:49.913046Z"
    }
   },
   "outputs": [
    {
     "data": {
      "text/plain": [
       "-1"
      ]
     },
     "execution_count": 23,
     "metadata": {},
     "output_type": "execute_result"
    }
   ],
   "source": [
    "#highlighting the found stop signs\n",
    "\n",
    "for (x, y, w, h) in stops:\n",
    "    cv2.rectangle(img, (x, y), (x + h, y + w), (0, 255, 0), 5)\n",
    "\n",
    "cv2.imshow('', img)\n",
    "cv2.waitKey()"
   ]
  },
  {
   "cell_type": "code",
   "execution_count": null,
   "id": "e3b5b13a",
   "metadata": {},
   "outputs": [],
   "source": []
  }
 ],
 "metadata": {
  "kernelspec": {
   "display_name": "Python 3 (ipykernel)",
   "language": "python",
   "name": "python3"
  },
  "language_info": {
   "codemirror_mode": {
    "name": "ipython",
    "version": 3
   },
   "file_extension": ".py",
   "mimetype": "text/x-python",
   "name": "python",
   "nbconvert_exporter": "python",
   "pygments_lexer": "ipython3",
   "version": "3.11.5"
  }
 },
 "nbformat": 4,
 "nbformat_minor": 5
}
